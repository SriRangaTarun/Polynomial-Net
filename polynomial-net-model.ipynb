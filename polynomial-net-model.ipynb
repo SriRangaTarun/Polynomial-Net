{
 "cells": [
  {
   "cell_type": "code",
   "execution_count": 305,
   "metadata": {},
   "outputs": [],
   "source": [
    "import numpy as np\n",
    "import tensorflow as tf\n",
    "\n",
    "sess = tf.InteractiveSession()\n",
    "\n",
    "X = [i for i in range(0, 100)]\n",
    "E = [8*np.random.normal() for i in range(0, len(X))]\n",
    "Y = [2*X[i] - 3 + E[i] for i in range(0, len(X))]"
   ]
  },
  {
   "cell_type": "code",
   "execution_count": 306,
   "metadata": {},
   "outputs": [
    {
     "data": {
      "image/png": "[encoded data removed]",
      "text/plain": [
       "<matplotlib.figure.Figure at 0x13745af60>"
      ]
     },
     "metadata": {},
     "output_type": "display_data"
    }
   ],
   "source": [
    "import matplotlib.pyplot as plt\n",
    "\n",
    "plt.plot(X, Y, 'r.')\n",
    "plt.plot(X, np.array(Y) - np.array(E), 'k')\n",
    "plt.show()"
   ]
  },
  {
   "cell_type": "code",
   "execution_count": 307,
   "metadata": {},
   "outputs": [],
   "source": [
    "def preprocessData(X, Y):\n",
    "    # preprocesses data\n",
    "    \n",
    "    n_samples = len(X)\n",
    "    \n",
    "    if min(X) < 0:          \n",
    "        X = np.array(X) - [min(np.array(X))]*len(X)\n",
    "    \n",
    "    if max(Y) < 0:\n",
    "        Y = [-Y[i] for i in range(0, len(Y))]\n",
    "    \n",
    "    if (Y[0] > Y[n_samples // 2] and Y[n_samples // 2] > Y[n_samples - 1]) or (Y[0] < Y[n_samples // 2] and Y[n_samples - 1] < Y[n_samples // 2]):\n",
    "        Y = [-Y[i] for i in range(0, len(Y))]\n",
    "        \n",
    "    X = list(X)\n",
    "    Y = list(Y)\n",
    "    \n",
    "    threshold = 50\n",
    "    \n",
    "    X1 = X\n",
    "    Y1 = Y\n",
    "    \n",
    "    if len(X) < threshold:\n",
    "        while len(X) < threshold and len(Y) < threshold:\n",
    "            X = X + [X1[np.random.randint(0, len(X1))]]\n",
    "            Y = Y + [Y1[np.random.randint(0, len(Y1))]]\n",
    "            \n",
    "    X = X + [-X[i] for i in range(0, len(X))]\n",
    "    Y = Y + [-Y[i] for i in range(0, len(Y))]\n",
    "            \n",
    " # All the above three if cases manipulate the input data such that the model can find the degree more       convenietly \n",
    "\n",
    "    X = np.array(X)\n",
    "    Y = np.array(Y)\n",
    "    \n",
    "    X = np.reshape(X, (len(X), 1))\n",
    "    Y = np.reshape(Y, (len(Y), 1))\n",
    "    \n",
    "    return X, Y"
   ]
  },
  {
   "cell_type": "code",
   "execution_count": 308,
   "metadata": {},
   "outputs": [],
   "source": [
    "def buildModel():                        # Builds polynomial net model with layers with exponential output\n",
    "    import keras\n",
    "    \n",
    "    from keras.models import Model\n",
    "    from keras.layers import Input, Dense, Lambda, multiply, add\n",
    "    \n",
    "    a = tf.Variable(1.0)\n",
    "    b = tf.Variable(1.0)\n",
    "    n = tf.Variable(1.0)\n",
    "    \n",
    "    x = Input(shape=(1,))\n",
    "    \n",
    "    j1 = 4.5\n",
    "    j2 = 20.\n",
    "    \n",
    "    k1 = 4.5\n",
    "    k2 = 20.\n",
    "    \n",
    "    dense_a = Dense(2, kernel_initializer='glorot_normal', bias_initializer='glorot_normal')(x)\n",
    "    powered_dense1 = Lambda(lambda x: tf.abs(-j1*tf.sigmoid(j2*a)*x**2 - k1*tf.sigmoid(k2*b))**(n/8.0))(Dense(1, kernel_initializer='glorot_normal', bias_initializer='glorot_normal')(dense_a))\n",
    "    model1 = Model(x, powered_dense1)\n",
    "    model1.layers[-1].trainable_weights.extend([a, b, n])\n",
    "    \n",
    "    dense_b = Dense(2, kernel_initializer='glorot_normal', bias_initializer='glorot_normal')(x)\n",
    "    powered_dense2 = Lambda(lambda x: tf.abs(-j1*tf.sigmoid(j2*a)*x**2 - k1*tf.sigmoid(k2*b))**(n/8.0))(Dense(1, kernel_initializer='glorot_normal', bias_initializer='glorot_normal')(dense_b))\n",
    "    model2 = Model(x, powered_dense2)\n",
    "    model2.layers[-1].trainable_weights.extend([a, b, n])\n",
    "    \n",
    "    \n",
    "\n",
    "                                        # \"n\" is the parameter representing the degree\n",
    "                                                              \n",
    "                                # We initialize all weights and biases in the dense layers using\n",
    "                                # the Glorot or Xavier normal Initializer\n",
    "                                                     \n",
    "                                                     \n",
    "    dense_c = Dense(2, kernel_initializer='glorot_normal', bias_initializer='glorot_normal')(x)\n",
    "    powered_dense3 = Lambda(lambda x: tf.abs(j1*tf.sigmoid(j2*a)*x**2 + k1*tf.sigmoid(k2*b))**(n/8.0))(Dense(1, kernel_initializer='glorot_normal', bias_initializer='glorot_normal')(dense_c))\n",
    "    model3 = Model(x, powered_dense3)\n",
    "    model3.layers[-1].trainable_weights.extend([a, b, n])\n",
    "\n",
    "    dense_d = Dense(2, kernel_initializer='glorot_normal', bias_initializer='glorot_normal')(x)\n",
    "    powered_dense4 = Lambda(lambda x: tf.abs(j1*tf.sigmoid(j2*a)*x**2 + k1*tf.sigmoid(k2*b))**(n/8.0))(Dense(1, kernel_initializer='glorot_normal', bias_initializer='glorot_normal')(dense_d))\n",
    "    model4 = Model(x, powered_dense4)\n",
    "    model4.layers[-1].trainable_weights.extend([a, b, n])\n",
    "    \n",
    "    exponentialLayers = multiply([model1.output, model2.output, model3.output, model4.output])\n",
    "    \n",
    "    model = Model(x, exponentialLayers)\n",
    "    model.layers[-1].trainable_weights.extend([a, b, n])\n",
    "    \n",
    "    return model, n"
   ]
  },
  {
   "cell_type": "code",
   "execution_count": 309,
   "metadata": {},
   "outputs": [],
   "source": [
    "def trainModel(X, Y, model):                        # fits model to data\n",
    "    model.fit(X, Y, epochs=1, verbose=0)"
   ]
  },
  {
   "cell_type": "code",
   "execution_count": 310,
   "metadata": {},
   "outputs": [],
   "source": [
    "def predictDegree(X, Y):  \n",
    "                                              # Predicts degree of polynomial relationship between X and Y\n",
    "    constant = 15000\n",
    "    X_list = np.reshape(X, (len(X)))\n",
    "    epochs = constant//(len(X_list))\n",
    "    \n",
    "    X, Y = preprocessData(X, Y)\n",
    "    model, n = buildModel()\n",
    "    \n",
    "    from keras.optimizers import RMSprop\n",
    "    model.compile(loss='mae', optimizer=RMSprop(lr=0.01))\n",
    "    \n",
    "    tf.global_variables_initializer().run()\n",
    "    \n",
    "    for i in range(0, epochs):\n",
    "        trainModel(X, Y, model)   \n",
    "        i = i + 1\n",
    "        \n",
    "    return np.int32(np.round(sess.run(n)))   # return rounded degree   "
   ]
  },
  {
   "cell_type": "code",
   "execution_count": 311,
   "metadata": {
    "scrolled": false
   },
   "outputs": [
    {
     "name": "stdout",
     "output_type": "stream",
     "text": [
      "Degree of polynomial relationship : 1 (if there is a polynomial relationship)\n",
      "Time taken : 8.583256721496582 s\n"
     ]
    }
   ],
   "source": [
    "import time\n",
    "\n",
    "startTime = time.time()\n",
    "print(\"Degree of polynomial relationship : \" + str(predictDegree(X, Y)) + \" (if there is a polynomial relationship)\")\n",
    "endTime = time.time()\n",
    "print(\"Time taken : \" + str(endTime - startTime) + \" s\")"
   ]
  },
  {
   "cell_type": "code",
   "execution_count": null,
   "metadata": {},
   "outputs": [],
   "source": []
  }
 ],
 "metadata": {
  "kernelspec": {
   "display_name": "Python 3",
   "language": "python",
   "name": "python3"
  },
  "language_info": {
   "codemirror_mode": {
    "name": "ipython",
    "version": 3
   },
   "file_extension": ".py",
   "mimetype": "text/x-python",
   "name": "python",
   "nbconvert_exporter": "python",
   "pygments_lexer": "ipython3",
   "version": "3.6.1"
  }
 },
 "nbformat": 4,
 "nbformat_minor": 2
}
